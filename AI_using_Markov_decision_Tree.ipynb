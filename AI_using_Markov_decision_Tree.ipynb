{
  "nbformat": 4,
  "nbformat_minor": 0,
  "metadata": {
    "colab": {
      "name": "Untitled2.ipynb",
      "provenance": [],
      "authorship_tag": "ABX9TyPr6rKcnnL6CqxgVg7paroY",
      "include_colab_link": true
    },
    "kernelspec": {
      "name": "python3",
      "display_name": "Python 3"
    }
  },
  "cells": [
    {
      "cell_type": "markdown",
      "metadata": {
        "id": "view-in-github",
        "colab_type": "text"
      },
      "source": [
        "<a href=\"https://colab.research.google.com/github/veerkalburgi/AI_projects/blob/master/AI_using_Markov_decision_Tree.ipynb\" target=\"_parent\"><img src=\"https://colab.research.google.com/assets/colab-badge.svg\" alt=\"Open In Colab\"/></a>"
      ]
    },
    {
      "cell_type": "markdown",
      "metadata": {
        "id": "xiN_xAg8fABD",
        "colab_type": "text"
      },
      "source": [
        "This is first AI model using the Thompson Sampling model "
      ]
    },
    {
      "cell_type": "code",
      "metadata": {
        "id": "gdT-op1khEXL",
        "colab_type": "code",
        "colab": {
          "base_uri": "https://localhost:8080/",
          "height": 136
        },
        "outputId": "683a5d04-1c1a-4d2c-fba6-bb6b2aaccdfa"
      },
      "source": [
        "# Thompson Sampling for Slot Machines\n",
        "\n",
        "# Importing the libraries\n",
        "import numpy as np\n",
        "\n",
        "# Setting conversion rates and the number of samples\n",
        "conversionRates = [0.15, 0.04, 0.13, 0.11, 0.05,0.25]\n",
        "N = 10000\n",
        "d = len(conversionRates)\n",
        "\n",
        "# Creating the dataset\n",
        "X = np.zeros((N, d))\n",
        "for i in range(N):\n",
        "    for j in range(d):\n",
        "        if np.random.rand() < conversionRates[j]:\n",
        "            X[i][j] = 1\n",
        "\n",
        "# Making arrays to count our losses and wins\n",
        "nPosReward = np.zeros(d)\n",
        "nNegReward = np.zeros(d)\n",
        "\n",
        "# Taking our best slot machine through beta distibution and updating its losses and wins\n",
        "for i in range(N):\n",
        "    selected = 0\n",
        "    maxRandom = 0\n",
        "    for j in range(d):\n",
        "        randomBeta = np.random.beta(nPosReward[j] + 1, nNegReward[j] + 1)\n",
        "        if randomBeta > maxRandom:\n",
        "            maxRandom = randomBeta\n",
        "            selected = j\n",
        "    if X[i][selected] == 1:\n",
        "        nPosReward[selected] += 1\n",
        "    else:\n",
        "        nNegReward[selected] += 1\n",
        "\n",
        "# Showing which slot machine is considered the best\n",
        "nSelected = nPosReward + nNegReward \n",
        "for i in range(d):\n",
        "    print('Machine number ' + str(i + 1) + ' was selected ' + str(nSelected[i]) + ' times')\n",
        "print('Conclusion: Best machine is machine number ' + str(np.argmax(nSelected) + 1))\n"
      ],
      "execution_count": 2,
      "outputs": [
        {
          "output_type": "stream",
          "text": [
            "Machine number 1 was selected 58.0 times\n",
            "Machine number 2 was selected 34.0 times\n",
            "Machine number 3 was selected 58.0 times\n",
            "Machine number 4 was selected 27.0 times\n",
            "Machine number 5 was selected 57.0 times\n",
            "Machine number 6 was selected 9766.0 times\n",
            "Conclusion: Best machine is machine number 6\n"
          ],
          "name": "stdout"
        }
      ]
    }
  ]
}