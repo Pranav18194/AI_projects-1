{
  "nbformat": 4,
  "nbformat_minor": 0,
  "metadata": {
    "colab": {
      "name": "Untitled2.ipynb",
      "provenance": [],
      "authorship_tag": "ABX9TyNGPz1/Mve3JZ/VBxdtXure",
      "include_colab_link": true
    },
    "kernelspec": {
      "name": "python3",
      "display_name": "Python 3"
    }
  },
  "cells": [
    {
      "cell_type": "markdown",
      "metadata": {
        "id": "view-in-github",
        "colab_type": "text"
      },
      "source": [
        "<a href=\"https://colab.research.google.com/github/veerkalburgi/AI_projects/blob/master/AI_using_Markov_decision_Tree.ipynb\" target=\"_parent\"><img src=\"https://colab.research.google.com/assets/colab-badge.svg\" alt=\"Open In Colab\"/></a>"
      ]
    },
    {
      "cell_type": "code",
      "metadata": {
        "id": "4S_3_u9uatF0",
        "colab_type": "code",
        "colab": {
          "base_uri": "https://localhost:8080/",
          "height": 129
        },
        "outputId": "064a117f-4c37-4f0f-823c-0d4807884f3f"
      },
      "source": [
        "# The 5 Core Principles Pseudocode\n",
        "\n",
        "class Environment():\n",
        "\n",
        "\tdef __init__(self):\n",
        "\t\tInitialize the game\n",
        "\t\n",
        "\tdef get_observation(self):\n",
        "\t\tReturn the state of the game \n",
        "\t\n",
        "\tdef get_reward(self, action):\n",
        "\t\tReturn the reward obtained by playing this action\n",
        "\t\n",
        "\tdef update(self, action):\n",
        "\t\tUpdate the environment based on the action specified\n",
        "\n",
        "class AI():\n",
        "\n",
        "\tdef __init__(self):\n",
        "\t\tInitialize the AI\n",
        "\t\n",
        "\tdef train(self, state_of_the_game, reward):\n",
        "\t\tTrain the AI based on the state of the game and the reward obtained\n",
        "\n",
        "\tdef play_action(self, state_of_the_game):\n",
        "\t\tPlay an action based on the state of the game\n",
        "\n",
        "def markov_decision_process_training():\n",
        "\tenv = Environment()\n",
        "\tai = AI() \n",
        "\twhile True:\n",
        "\t\tstate_of_the_game = env.get_observation()\n",
        "\t\taction = ai.play_action(state_of_the_game)\n",
        "\t\treward = env.get_reward(action)\n",
        "\t\tai.train(state_of_the_game, reward)\n",
        "\t\tenv.update(action)\n",
        "\n",
        "def markov_decision_process_inference():\n",
        "\tenv = Environment()\n",
        "\tai = AI() \n",
        "\twhile True:\n",
        "\t\tstate_of_the_game = env.get_observation()\n",
        "\t\taction = ai.play_action(state_of_the_game)\n",
        "\t\tenv.update(action)\n"
      ],
      "execution_count": 1,
      "outputs": [
        {
          "output_type": "error",
          "ename": "SyntaxError",
          "evalue": "ignored",
          "traceback": [
            "\u001b[0;36m  File \u001b[0;32m\"<ipython-input-1-ce47c5af55a8>\"\u001b[0;36m, line \u001b[0;32m5\u001b[0m\n\u001b[0;31m    Initialize the game\u001b[0m\n\u001b[0m                 ^\u001b[0m\n\u001b[0;31mSyntaxError\u001b[0m\u001b[0;31m:\u001b[0m invalid syntax\n"
          ]
        }
      ]
    }
  ]
}