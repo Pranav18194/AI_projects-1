{
  "nbformat": 4,
  "nbformat_minor": 0,
  "metadata": {
    "colab": {
      "name": "q_learning_without_intermediate_goal.ipynb",
      "provenance": []
    },
    "kernelspec": {
      "name": "python3",
      "display_name": "Python 3"
    }
  },
  "cells": [
    {
      "cell_type": "code",
      "metadata": {
        "id": "lCpQKHtJhP0e",
        "colab_type": "code",
        "outputId": "32ee4acd-a178-459e-e8f5-21e7ca6ca518",
        "colab": {
          "base_uri": "https://localhost:8080/",
          "height": 51
        }
      },
      "source": [
        "# AI for Logistics - Robots in a warehouse\n",
        "\n",
        "# Importing the libraries\n",
        "import numpy as np\n",
        "\n",
        "# Setting the parameters gamma and alpha for the Q-Learning\n",
        "gamma = 0.75\n",
        "alpha = 0.9\n",
        "\n",
        "# PART 1 - BUILDING THE ENVIRONMENT\n",
        "\n",
        "# Defining the states\n",
        "location_to_state = {'A': 0,\n",
        "                     'B': 1,\n",
        "                     'C': 2,\n",
        "                     'D': 3,\n",
        "                     'E': 4,\n",
        "                     'F': 5,\n",
        "                     'G': 6,\n",
        "                     'H': 7,\n",
        "                     'I': 8,\n",
        "                     'J': 9,\n",
        "                     'K': 10,\n",
        "                     'L': 11}\n",
        "\n",
        "# Defining the actions\n",
        "actions = [0,1,2,3,4,5,6,7,8,9,10,11]\n",
        "\n",
        "# Defining the rewards\n",
        "R = np.array([[0,1,0,0,0,0,0,0,0,0,0,0],\n",
        "              [1,0,1,0,0,1,0,0,0,0,0,0],\n",
        "              [0,1,0,0,0,0,1,0,0,0,0,0],\n",
        "              [0,0,0,0,0,0,0,1,0,0,0,0],\n",
        "              [0,0,0,0,0,0,0,0,1,0,0,0],\n",
        "              [0,1,0,0,0,0,0,0,0,1,0,0],\n",
        "              [0,0,1,0,0,0,1,1,0,0,0,0],\n",
        "              [0,0,0,1,0,0,1,0,0,0,0,1],\n",
        "              [0,0,0,0,1,0,0,0,0,1,0,0],\n",
        "              [0,0,0,0,0,1,0,0,1,0,1,0],\n",
        "              [0,0,0,0,0,0,0,0,0,1,0,1],\n",
        "              [0,0,0,0,0,0,0,1,0,0,1,0]])\n",
        "\n",
        "# PART 2 - BUILDING THE AI SOLUTION WITH Q-LEARNING\n",
        "\n",
        "# Making a mapping from the states to the locations\n",
        "state_to_location = {state: location for location, state in location_to_state.items()}\n",
        "\n",
        "# Making a function that returns the shortest route from a starting to ending location\n",
        "def route(starting_location, ending_location):\n",
        "    R_new = np.copy(R)\n",
        "    ending_state = location_to_state[ending_location]\n",
        "    R_new[ending_state, ending_state] = 1000\n",
        "    Q = np.array(np.zeros([12,12]))\n",
        "    for i in range(1000):\n",
        "        current_state = np.random.randint(0,12)\n",
        "        playable_actions = []\n",
        "        for j in range(12):\n",
        "            if R_new[current_state, j] > 0:\n",
        "                playable_actions.append(j)\n",
        "        next_state = np.random.choice(playable_actions)\n",
        "        TD = R_new[current_state, next_state] + gamma * Q[next_state, np.argmax(Q[next_state,])] - Q[current_state, next_state]\n",
        "        Q[current_state, next_state] = Q[current_state, next_state] + alpha * TD\n",
        "    route = [starting_location]\n",
        "    next_location = starting_location\n",
        "    while (next_location != ending_location):\n",
        "        starting_state = location_to_state[starting_location]\n",
        "        next_state = np.argmax(Q[starting_state,])\n",
        "        next_location = state_to_location[next_state]\n",
        "        route.append(next_location)\n",
        "        starting_location = next_location\n",
        "    return route\n",
        "\n",
        "# PART 3 - GOING INTO PRODUCTION\n",
        "\n",
        "# Printing the final route\n",
        "print('Route:')\n",
        "route('E', 'G')\n"
      ],
      "execution_count": 0,
      "outputs": [
        {
          "output_type": "stream",
          "text": [
            "Route:\n"
          ],
          "name": "stdout"
        },
        {
          "output_type": "execute_result",
          "data": {
            "text/plain": [
              "['E', 'I', 'J', 'F', 'B', 'C', 'G']"
            ]
          },
          "metadata": {
            "tags": []
          },
          "execution_count": 3
        }
      ]
    },
    {
      "cell_type": "code",
      "metadata": {
        "id": "0A7uxgW_huVW",
        "colab_type": "code",
        "colab": {}
      },
      "source": [
        ""
      ],
      "execution_count": 0,
      "outputs": []
    }
  ]
}