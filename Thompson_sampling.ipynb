{
  "nbformat": 4,
  "nbformat_minor": 0,
  "metadata": {
    "colab": {
      "name": "Thompson_sampling.ipynb",
      "provenance": [],
      "collapsed_sections": [],
      "authorship_tag": "ABX9TyN4h/acERgPTSTU0gd0POYY",
      "include_colab_link": true
    },
    "kernelspec": {
      "name": "python3",
      "display_name": "Python 3"
    }
  },
  "cells": [
    {
      "cell_type": "markdown",
      "metadata": {
        "id": "view-in-github",
        "colab_type": "text"
      },
      "source": [
        "<a href=\"https://colab.research.google.com/github/veerkalburgi/AI_projects/blob/master/Thompson_sampling.ipynb\" target=\"_parent\"><img src=\"https://colab.research.google.com/assets/colab-badge.svg\" alt=\"Open In Colab\"/></a>"
      ]
    },
    {
      "cell_type": "code",
      "metadata": {
        "id": "pyh7tSR4WJt5",
        "colab_type": "code",
        "outputId": "735fbcf2-a50b-4713-8d55-546079f7a7d8",
        "colab": {
          "base_uri": "https://localhost:8080/",
          "height": 312
        }
      },
      "source": [
        "# AI for Sales & Advertizing - Sell like the Wolf of AI Street\n",
        "\n",
        "# Importing the libraries\n",
        "import numpy as np\n",
        "import matplotlib.pyplot as plt\n",
        "import random\n",
        "\n",
        "# Setting the parameters\n",
        "N = 10000 # customers\n",
        "d = 9  # strategies\n",
        "\n",
        "# Building the environment inside a simulation\n",
        "conversion_rates = [0.05,0.13,0.09,0.16,0.11,0.04,0.20,0.08,0.01]\n",
        "X = np.array(np.zeros([N,d]))\n",
        "for i in range(N):\n",
        "    for j in range(d):\n",
        "        if np.random.rand() <= conversion_rates[j]:\n",
        "            X[i,j] = 1\n",
        "\n",
        "# Implementing Random Selection and Thompson Sampling\n",
        "strategies_selected_rs = []\n",
        "strategies_selected_ts = []\n",
        "total_reward_rs = 0\n",
        "total_reward_ts = 0\n",
        "numbers_of_rewards_1 = [0] * d\n",
        "numbers_of_rewards_0 = [0] * d\n",
        "for n in range(0, N):\n",
        "    # Random Selection\n",
        "    strategy_rs = random.randrange(d)\n",
        "    strategies_selected_rs.append(strategy_rs)\n",
        "    reward_rs = X[n, strategy_rs]\n",
        "    total_reward_rs = total_reward_rs + reward_rs\n",
        "    # Thompson Sampling\n",
        "    strategy_ts = 0\n",
        "    max_random = 0\n",
        "    for i in range(0, d):\n",
        "        random_beta = random.betavariate(numbers_of_rewards_1[i] + 1, numbers_of_rewards_0[i] + 1)\n",
        "        if random_beta > max_random:\n",
        "            max_random = random_beta\n",
        "            strategy_ts = i\n",
        "    reward_ts = X[n, strategy_ts]\n",
        "    if reward_ts == 1:\n",
        "        numbers_of_rewards_1[strategy_ts] = numbers_of_rewards_1[strategy_ts] + 1\n",
        "    else:\n",
        "        numbers_of_rewards_0[strategy_ts] = numbers_of_rewards_0[strategy_ts] + 1\n",
        "    strategies_selected_ts.append(strategy_ts)\n",
        "    total_reward_ts = total_reward_ts + reward_ts\n",
        "\n",
        "# Computing the Relative Return\n",
        "relative_return = (total_reward_ts - total_reward_rs) / total_reward_rs * 100\n",
        "print(\"Relative Return: {:.0f} %\".format(relative_return))\n",
        "\n",
        "# Plotting the Histogram of Selections\n",
        "plt.hist(strategies_selected_ts)\n",
        "plt.title('Histogram of Selections')\n",
        "plt.xlabel('Strategy')\n",
        "plt.ylabel('Number of times the strategy was selected')\n",
        "plt.show()\n"
      ],
      "execution_count": 1,
      "outputs": [
        {
          "output_type": "stream",
          "text": [
            "Relative Return: 98 %\n"
          ],
          "name": "stdout"
        },
        {
          "output_type": "display_data",
          "data": {
            "image/png": "[encoded data removed]",
            "text/plain": [
              "<Figure size 432x288 with 1 Axes>"
            ]
          },
          "metadata": {
            "tags": [],
            "needs_background": "light"
          }
        }
      ]
    }
  ]
}